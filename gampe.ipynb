from IPython.display import clear_output
import numpy as np
j=1
def check():
    flag=False
    if (b[0]  ==  b[1] ==  b[2] == 'X') or \
        (b[3] ==  b[4] ==  b[5] == 'X') or \
        (b[6] ==  b[7] ==  b[8] == 'X') or \
        (b[0] ==  b[4] ==  b[8] == 'X') or \
        (b[2] ==  b[4] ==  b[6] == 'X') or \
        (b[0] ==  b[3] ==  b[6] == 'X') or \
        (b[1] ==  b[4] ==  b[7] == 'X') or \
        (b[2] ==  b[5] ==  b[8] == 'X'):
        print "X won"
        flag= True
    if (b[0]  ==  b[1] ==  b[2] == 'O') or \
        (b[3] ==  b[4] ==  b[5] == 'O') or \
        (b[6] ==  b[7] ==  b[8] == 'O') or \
        (b[0] ==  b[4] ==  b[8] == 'O') or \
        (b[2] ==  b[4] ==  b[6] == 'O') or \
        (b[0] ==  b[3] ==  b[6] == 'O') or \
        (b[1] ==  b[4] ==  b[7] == 'O') or \
        (b[2] ==  b[5] ==  b[8] == 'O'):
        print "O won"
        flag= True
    return flag                

while(True):
	b = [' ',' ',' ', ' ', ' ',' ', ' ',' ',' ',' ']
	for i in  b:
		print " --- --- ---"
		print "| {}  | {} | {} |".format(str(b[0]),str(b[1]),str(b[2]))
		print " --- --- ---"
		print "| {}  | {} | {} |".format(str(b[3]),str(b[4]),str(b[5]))
		print " --- --- ---"
		print "| {}  | {} | {} |".format(str(b[6]),str(b[7]),str(b[8]))
		print " --- --- ---"
		if check()==True:
			print "Game Over"
			break
		if j==1 or j ==3 or j==5 or j==7 or j==9:
			print "Player 1 Enter the input X"
			p1_input=raw_input().upper()
			while(p1_input != 'X'):
				print "Player 1 Kindly enter input X "
				p1_input=raw_input().upper()
		if j==2 or j==4 or j==6 or j==8:
			print "Player 2 Enter the input O"
			p1_input=raw_input().upper()
			while(p1_input != 'O'):
				print "Player 2 Kindly enter input O "
				p1_input=raw_input().upper()
		if j!= 10:
			print "Enter the board position (1-9)"
			Y= input( )
			if Y==' ':
				print "Enter the board position (1-9)"
			clear_output()
			if b[Y-1]== ' ':
				b[Y-1] = p1_input
			else:
				print "That block is already filled"
				j=j-1
		else:
			print "Game Over ! \nIt's A Draw ! Try Again"
			ask=raw_input("Do you want to continue? Y or N")
			if askC=='Y':
				j=0
			else:
				break
		j=j+1
